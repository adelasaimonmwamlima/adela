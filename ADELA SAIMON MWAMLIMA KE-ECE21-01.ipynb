{
 "cells": [
  {
   "cell_type": "code",
   "execution_count": 10,
   "metadata": {},
   "outputs": [
    {
     "name": "stdout",
     "output_type": "stream",
     "text": [
      "what is your mass in stone?3\n",
      "you weight is  19.09090909090909 kilogram\n"
     ]
    }
   ],
   "source": [
    "#3.   mass_stone=int(input(\"what is your mass in stone?\"))\n",
    "mass_kg=14*mass_stone/2.2  \n",
    "print(\"you weight is \",mass_kg, \"kilogram\")\n",
    "      \n"
   ]
  },
  {
   "cell_type": "code",
   "execution_count": 11,
   "metadata": {},
   "outputs": [
    {
     "name": "stdout",
     "output_type": "stream",
     "text": [
      "what is the wearther37\n",
      "fever\n"
     ]
    }
   ],
   "source": [
    "#5. p=15\n",
    "i=int(input(\"what is the wearther\"))\n",
    "if i>36:\n",
    "    print(\"fever\")\n",
    "else:\n",
    "    print(\"no fever\")"
   ]
  },
  {
   "cell_type": "code",
   "execution_count": 12,
   "metadata": {},
   "outputs": [
    {
     "name": "stdout",
     "output_type": "stream",
     "text": [
      "324\n"
     ]
    }
   ],
   "source": [
    "#4. p=15\n",
    "q=3\n",
    "answer=(p+q)*(p+q)\n",
    "print(answer)"
   ]
  },
  {
   "cell_type": "code",
   "execution_count": 13,
   "metadata": {},
   "outputs": [
    {
     "name": "stdout",
     "output_type": "stream",
     "text": [
      "1257.142857142857\n"
     ]
    }
   ],
   "source": [
    "#8.  r=20\n",
    "pi=3.142857142857143\n",
    "area=pi*r**2\n",
    "print(area)"
   ]
  },
  {
   "cell_type": "code",
   "execution_count": 14,
   "metadata": {},
   "outputs": [
    {
     "name": "stdout",
     "output_type": "stream",
     "text": [
      ":what is age14\n",
      "cannot vote\n"
     ]
    }
   ],
   "source": [
    "#6.  age=17\n",
    "i=int(input(\":what is age\"))\n",
    "if i>17:\n",
    "   print(\"can vote\")\n",
    "elif i<17 and i>12:\n",
    "    print(\"cannot vote\")\n",
    "else:\n",
    "    print(\"invalid\")\n",
    "    "
   ]
  },
  {
   "cell_type": "code",
   "execution_count": null,
   "metadata": {},
   "outputs": [],
   "source": []
  }
 ],
 "metadata": {
  "kernelspec": {
   "display_name": "Python 3",
   "language": "python",
   "name": "python3"
  },
  "language_info": {
   "codemirror_mode": {
    "name": "ipython",
    "version": 3
   },
   "file_extension": ".py",
   "mimetype": "text/x-python",
   "name": "python",
   "nbconvert_exporter": "python",
   "pygments_lexer": "ipython3",
   "version": "3.8.5"
  }
 },
 "nbformat": 4,
 "nbformat_minor": 4
}
